{
 "cells": [
  {
   "cell_type": "markdown",
   "id": "norwegian-fleece",
   "metadata": {},
   "source": [
    "# GROUP A MINI-PROJECT\n",
    "In this project we scraped twitter to extract information about #EndSARS Tweets. The tool to carryout scraping used in this project is Selenium.\n",
    "\n",
    "We were able to get(scrape) 103 observations with 5 features as instructed by the project question\n"
   ]
  },
  {
   "cell_type": "code",
   "execution_count": 3,
   "id": "apparent-messaging",
   "metadata": {},
   "outputs": [
    {
     "name": "stderr",
     "output_type": "stream",
     "text": [
      "\n",
      "\n",
      "====== WebDriver manager ======\n",
      "Current google-chrome version is 90.0.4430\n",
      "Get LATEST driver version for 90.0.4430\n",
      "Driver [/Users/wuraolaifeoluwa/.wdm/drivers/chromedriver/mac64/90.0.4430.24/chromedriver] found in cache\n"
     ]
    },
    {
     "name": "stdout",
     "output_type": "stream",
     "text": [
      "103\n"
     ]
    }
   ],
   "source": [
    "# import necessary libraries\n",
    "import csv\n",
    "from selenium import webdriver\n",
    "import time\n",
    "from webdriver_manager.chrome import ChromeDriverManager\n",
    "from selenium.common.exceptions import NoSuchElementException\n",
    "from selenium.webdriver.common.keys import Keys\n",
    "\n",
    "\n",
    "# extract data from tweet\n",
    "def get_tweet(card):\n",
    "    try:\n",
    "        tweet_date = card.find_element_by_xpath('.//time').get_attribute('datetime')\n",
    "    except NoSuchElementException:\n",
    "        return\n",
    "    tweet_text = card.find_element_by_xpath('.//div[2]/div[2]/div[1]').text\n",
    "    like_count = card.find_element_by_xpath('.//div[@data-testid=\"like\"]').text\n",
    "    retweet_count = card.find_element_by_xpath('.//div[@data-testid=\"retweet\"]').text\n",
    "    user_name = card.find_element_by_xpath('.//span').text\n",
    "\n",
    "    tweet = (tweet_date, tweet_text, like_count, retweet_count, user_name)\n",
    "    return tweet\n",
    "\n",
    "\n",
    "# install Driver\n",
    "driver = webdriver.Chrome(ChromeDriverManager().install())\n",
    "path = \"https://www.twitter.com/login\"\n",
    "driver.get(path.format(q='Car'))\n",
    "\n",
    "# find and input username or email\n",
    "username = driver.find_element_by_xpath('//input[@name=\"session[username_or_email]\"]')\n",
    "username.send_keys('tiaco02513877')\n",
    "\n",
    "# find and input password\n",
    "password = driver.find_element_by_xpath('//input[@name=\"session[password]\"]')\n",
    "password.send_keys('Ifedamola96')\n",
    "password.send_keys(Keys.RETURN)\n",
    "\n",
    "# find search input and search for term\n",
    "search_input = driver.find_element_by_xpath('//input[@aria-label=\"Search query\"]')\n",
    "search_input.send_keys('#EndSARS')\n",
    "search_input.send_keys(Keys.RETURN)\n",
    "\n",
    "# navigate to historical 'latest' tab\n",
    "#driver.find_element_by_link_text('Latest').click()\n",
    "\n",
    "# to get all tweets on the page\n",
    "data = []\n",
    "tweet_ids = []\n",
    "last_position = driver.execute_script(\"return window.pageYOffset;\")\n",
    "scrolling = True\n",
    "\n",
    "while scrolling:\n",
    "    page_cards = driver.find_elements_by_xpath('//div[@data-testid=\"tweet\"]')\n",
    "    for card in page_cards[-15:]:\n",
    "        tweet = get_tweet(card)\n",
    "        if tweet:\n",
    "            tweet_id = \"\".join(tweet)\n",
    "            if tweet_id not in tweet_ids:\n",
    "                #tweet_ids.add(tweet_id)\n",
    "                data.append(tweet)\n",
    "\n",
    "    scroll_attempt = 0\n",
    "    while True:\n",
    "        # check scroll position\n",
    "        driver.execute_script('window.scrollTo(0, document.body.scrollHeight);')\n",
    "        time.sleep(1)\n",
    "        curr_position = driver.execute_script(\"return window.pageYOffset;\")\n",
    "        if last_position == curr_position:\n",
    "            scroll_attempt += 1\n",
    "\n",
    "            # end of scroll region\n",
    "            if scroll_attempt >= 3:\n",
    "                scrolling = False\n",
    "                break\n",
    "            else:\n",
    "                time.sleep(2)  # attempt an scroll\n",
    "        else:\n",
    "            last_position = curr_position\n",
    "            break\n",
    "\n",
    "print(len(data))\n",
    "\n",
    "\n",
    "def save_data():\n",
    "    with open('EndSARS_tweets.csv', 'w', newline='', encoding='utf-8') as f:\n",
    "        header = ['Date of Tweet', 'Tweets Text', 'Likes', 'Retweets', 'Username']\n",
    "        writer = csv.writer(f)\n",
    "        writer.writerow(header)\n",
    "        writer.writerows(data)\n",
    "        return"
   ]
  },
  {
   "cell_type": "code",
   "execution_count": 5,
   "id": "adjustable-utilization",
   "metadata": {},
   "outputs": [],
   "source": [
    "with open('EndSARS_tweets.csv', 'w', newline='', encoding='utf-8') as f:\n",
    "    header = ['Date of Tweet', 'Tweets Text', 'Likes', 'Retweets', 'Username']\n",
    "    writer = csv.writer(f)\n",
    "    writer.writerow(header)\n",
    "    writer.writerows(data)"
   ]
  },
  {
   "cell_type": "code",
   "execution_count": null,
   "id": "sporting-produce",
   "metadata": {},
   "outputs": [],
   "source": []
  }
 ],
 "metadata": {
  "kernelspec": {
   "display_name": "Python 3",
   "language": "python",
   "name": "python3"
  },
  "language_info": {
   "codemirror_mode": {
    "name": "ipython",
    "version": 3
   },
   "file_extension": ".py",
   "mimetype": "text/x-python",
   "name": "python",
   "nbconvert_exporter": "python",
   "pygments_lexer": "ipython3",
   "version": "3.8.2"
  }
 },
 "nbformat": 4,
 "nbformat_minor": 5
}
